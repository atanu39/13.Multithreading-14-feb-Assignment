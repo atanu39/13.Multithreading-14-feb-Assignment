{
 "cells": [
  {
   "cell_type": "markdown",
   "id": "0931b0b7-2405-460f-a5f7-88121abbc72c",
   "metadata": {},
   "source": [
    "# Q1.What is multithreading in python? Why is it used? Name the module used to handle threads in python."
   ]
  },
  {
   "cell_type": "markdown",
   "id": "7d0fa26a-a8ea-4a3c-9622-d8a540fd5154",
   "metadata": {},
   "source": [
    "# Ans:"
   ]
  },
  {
   "cell_type": "markdown",
   "id": "ba955f75-be81-44cb-9353-e301ba6b01b1",
   "metadata": {},
   "source": [
    "Multithreading in Python is a technique that allows a program to run multiple threads concurrently within a single process. Each thread can execute its own set of instructions, independent of the other threads, while sharing the same memory space.\n",
    "\n",
    "Multithreading is used in Python to improve the performance of a program by allowing multiple tasks to be executed concurrently. For example, if a program is performing a time-consuming operation, such as reading a large file or performing a complex calculation, it can be split into multiple threads that can execute simultaneously, which can significantly reduce the total time required to complete the task.\n",
    "\n",
    "The module used to handle threads in Python is called threading. It provides a simple way to create and manage threads in Python programs. With the threading module, you can create new threads, start them, and stop them when they have completed their task. The module also provides functions for synchronizing access to shared resources, such as locks and semaphores, to prevent conflicts between threads that are accessing the same resources."
   ]
  },
  {
   "cell_type": "markdown",
   "id": "506697b7-db96-42f0-b42a-df9d98ea86a9",
   "metadata": {},
   "source": [
    "# Q2.Why threading module used? Write the use of the following functions:\n",
    "1.activeCount()\n",
    "2.currentThread()\n",
    "3.enumerate()"
   ]
  },
  {
   "cell_type": "markdown",
   "id": "7ef7f770-1925-441f-8337-aaaf9f8b3e4a",
   "metadata": {},
   "source": [
    "# Ans:"
   ]
  },
  {
   "cell_type": "markdown",
   "id": "26ea6ab2-59d1-40e2-88b9-fb806e9a8baa",
   "metadata": {},
   "source": [
    "The threading module in Python is used for creating, controlling, and managing threads in a Python program. It provides a way to run multiple threads concurrently within a single process, allowing you to perform multiple tasks at the same time.\n",
    "\n",
    "Here are the uses of the following functions in the threading module:\n",
    "\n",
    "1. activeCount(): This function returns the number of Thread objects that are active in the current Python interpreter. An active thread is a thread that has been started and has not yet been joined. This function can be useful for debugging and monitoring the status of threads in a program.\n",
    "\n",
    "2. currentThread(): This function returns a reference to the currently executing thread object. This can be useful for identifying the thread that is currently running, and for accessing its properties and methods.\n",
    "\n",
    "3. enumerate(): This function returns a list of all Thread objects that are active in the current Python interpreter. Each item in the list is a reference to a Thread object, and the list can be used to iterate over all the active threads and perform some action on each one. This function can be useful for debugging and monitoring the status of threads in a program, and for synchronizing access to shared resources between threads."
   ]
  },
  {
   "cell_type": "markdown",
   "id": "8c567200-865b-4331-b1a0-3bb0d8858d1e",
   "metadata": {},
   "source": [
    "# Q3. Explain the following functions:\n",
    "1.run(),2.start(),\n",
    "3.join(),\n",
    "4.is_Alive()"
   ]
  },
  {
   "cell_type": "markdown",
   "id": "28f586c9-b1b5-4b92-8a77-cf6eb0829e2f",
   "metadata": {},
   "source": [
    "# Ans :"
   ]
  },
  {
   "cell_type": "markdown",
   "id": "40b4ab9b-94b9-4c08-b8fa-5b63d0a49a58",
   "metadata": {},
   "source": [
    "Here are the explanations of the following functions in the threading module:\n",
    "\n",
    "1. run(): This method defines the code that should be run in a thread. It is called when the thread is started using the start() method. You should override this method in a subclass of Thread to define the code that you want to run in a separate thread. Here is an example:"
   ]
  },
  {
   "cell_type": "code",
   "execution_count": 1,
   "id": "bfe5f915-15f2-4b7f-afcf-d61a0733a422",
   "metadata": {},
   "outputs": [
    {
     "name": "stdout",
     "output_type": "stream",
     "text": [
      "Hello from thread Thread-5\n"
     ]
    }
   ],
   "source": [
    "import threading\n",
    "\n",
    "class MyThread(threading.Thread):\n",
    "    def run(self):\n",
    "        print(\"Hello from thread\", self.name)\n",
    "\n",
    "t = MyThread()\n",
    "t.start()  # starts the thread and calls the run() method\n"
   ]
  },
  {
   "cell_type": "markdown",
   "id": "93f97d72-f3b5-42cc-b876-ee1e330976ef",
   "metadata": {},
   "source": [
    "2. start(): This method starts a new thread by calling the run() method in a separate thread of control. You should call this method on an instance of a Thread subclass to start the thread. Here is an example:"
   ]
  },
  {
   "cell_type": "code",
   "execution_count": 2,
   "id": "0346a8e6-b9db-463b-82e0-2e91cafb6e7e",
   "metadata": {},
   "outputs": [
    {
     "name": "stdout",
     "output_type": "stream",
     "text": [
      "Hello from thread Thread-6 (my_function)\n"
     ]
    }
   ],
   "source": [
    "import threading\n",
    "\n",
    "def my_function():\n",
    "    print(\"Hello from thread\", threading.current_thread().name)\n",
    "\n",
    "t = threading.Thread(target=my_function)\n",
    "t.start()  # starts the thread and calls my_function() in a separate thread\n"
   ]
  },
  {
   "cell_type": "markdown",
   "id": "76c74ace-9ae8-4ae3-ada1-9a95c946ab90",
   "metadata": {},
   "source": [
    "3. join(): This method waits for a thread to finish before continuing execution of the program. You should call this method on a Thread instance to wait for that thread to complete. Here is an example:"
   ]
  },
  {
   "cell_type": "code",
   "execution_count": 3,
   "id": "c1d696d8-2662-41e6-be9c-f1d4d08ddd63",
   "metadata": {},
   "outputs": [
    {
     "name": "stdout",
     "output_type": "stream",
     "text": [
      "Hello from thread Thread-7 (my_function)\n"
     ]
    }
   ],
   "source": [
    "import threading\n",
    "\n",
    "def my_function():\n",
    "    print(\"Hello from thread\", threading.current_thread().name)\n",
    "\n",
    "t = threading.Thread(target=my_function)\n",
    "t.start()  # starts the thread\n",
    "t.join()   # waits for the thread to complete before continuing\n"
   ]
  },
  {
   "cell_type": "markdown",
   "id": "8921d554-97a4-46f8-baa1-1ed7e9092822",
   "metadata": {},
   "source": [
    "4. is_Alive(): This method returns a Boolean value that indicates whether a thread is still running or has completed execution. You should call this method on a Thread instance to check whether that thread is still running. Here is an example:"
   ]
  },
  {
   "cell_type": "code",
   "execution_count": 4,
   "id": "e43b9270-eb1f-44a6-ae44-a7de763a142e",
   "metadata": {},
   "outputs": [
    {
     "name": "stdout",
     "output_type": "stream",
     "text": [
      "Thread started: Thread-8 (my_function)\n",
      "Thread is alive? True\n",
      "Thread finished: Thread-8 (my_function)\n",
      "Thread is alive? False\n"
     ]
    }
   ],
   "source": [
    "import threading\n",
    "import time\n",
    "\n",
    "def my_function():\n",
    "    print(\"Thread started:\", threading.current_thread().name)\n",
    "    time.sleep(2)  # simulate some work\n",
    "    print(\"Thread finished:\", threading.current_thread().name)\n",
    "\n",
    "t = threading.Thread(target=my_function)\n",
    "t.start()  # starts the thread\n",
    "print(\"Thread is alive?\", t.is_alive())  # prints True\n",
    "time.sleep(3)  # wait for the thread to complete\n",
    "print(\"Thread is alive?\", t.is_alive())  # prints False\n"
   ]
  },
  {
   "cell_type": "markdown",
   "id": "09208d02-6ebf-45b5-bcea-b51d952f8d55",
   "metadata": {},
   "source": [
    "# Q4. Write a python program to create two threads. Thread one must print the list of squares and thread two must print the list of cubes."
   ]
  },
  {
   "cell_type": "markdown",
   "id": "1c486dc1-94d2-4639-960d-9591f66ad52e",
   "metadata": {},
   "source": [
    "# Ans :"
   ]
  },
  {
   "cell_type": "markdown",
   "id": "832043d7-3635-48fe-8c76-573ad934cf04",
   "metadata": {},
   "source": [
    "Here's a Python program that creates two threads. The first thread calculates and prints a list of squares, while the second thread calculates and prints a list of cubes:"
   ]
  },
  {
   "cell_type": "code",
   "execution_count": 8,
   "id": "51ee1baa-5693-439c-b25b-cf4a8d466d93",
   "metadata": {},
   "outputs": [
    {
     "name": "stdout",
     "output_type": "stream",
     "text": [
      "List of squares:\n",
      "1\n",
      "4\n",
      "9\n",
      "16\n",
      "25\n",
      "36\n",
      "49\n",
      "64\n",
      "81\n",
      "100\n",
      "List of cubes:\n",
      "1\n",
      "8\n",
      "27\n",
      "64\n",
      "125\n",
      "216\n",
      "343\n",
      "512\n",
      "729\n",
      "1000\n",
      "Main thread finished\n"
     ]
    }
   ],
   "source": [
    "import threading\n",
    "\n",
    "def print_squares(numbers):\n",
    "    print(\"List of squares:\")\n",
    "    for n in numbers:\n",
    "        print(n ** 2)\n",
    "\n",
    "def print_cubes(numbers):\n",
    "    print(\"List of cubes:\")\n",
    "    for n in numbers:\n",
    "        print(n ** 3)\n",
    "\n",
    "numbers = [1, 2, 3, 4, 5, 6, 7, 8, 9, 10]\n",
    "\n",
    "t1 = threading.Thread(target=print_squares, args=(numbers,))\n",
    "t2 = threading.Thread(target=print_cubes, args=(numbers,))\n",
    "\n",
    "t1.start()\n",
    "t2.start()\n",
    "\n",
    "t1.join()\n",
    "t2.join()\n",
    "\n",
    "print(\"Main thread finished\")\n"
   ]
  },
  {
   "cell_type": "markdown",
   "id": "0882d077-81a7-466f-a49a-17edef408b98",
   "metadata": {},
   "source": [
    "In this program, we define two functions print_squares() and print_cubes() that take a list of numbers as input and print the squares and cubes of each number in the list respectively. We then create two threads using the Thread() constructor and pass the respective functions as the target argument, along with the numbers list as the args argument.\n",
    "\n",
    "We start both threads using the start() method and wait for them to complete using the join() method. Finally, we print a message to indicate that the program has completed.\n",
    "\n",
    "When you run this program, it will create two threads that run concurrently and print the squares and cubes of the numbers in the numbers list respectively."
   ]
  },
  {
   "cell_type": "markdown",
   "id": "e5e5fb0a-1b0a-4951-918c-73993c83a910",
   "metadata": {},
   "source": [
    "# Q5. State advantages and disadvantages of multithreading."
   ]
  },
  {
   "cell_type": "markdown",
   "id": "e465f23b-2565-4181-bb1e-2433131f0eef",
   "metadata": {},
   "source": [
    "# Ans :"
   ]
  },
  {
   "cell_type": "markdown",
   "id": "d72a55b2-6473-440e-9082-b3764df55175",
   "metadata": {},
   "source": [
    "Multithreading has several advantages and disadvantages, which are discussed below.\n",
    "\n",
    "## Advantages of multithreading:\n",
    "\n",
    "1. Improved performance: Multithreading can improve the performance of a program by allowing it to execute multiple tasks concurrently. This can result in faster execution times and improved responsiveness.\n",
    "\n",
    "2. Efficient use of resources: Multithreading allows multiple threads to share the same resources, such as memory and CPU time. This can result in more efficient use of resources and reduced resource contention.\n",
    "\n",
    "3. Simplified program design: Multithreading can simplify the design of a program by allowing complex tasks to be broken down into smaller, more manageable threads. This can make the program easier to understand and maintain.\n",
    "\n",
    "4. Better user experience: Multithreading can improve the user experience by allowing the program to perform background tasks while still being responsive to user input.\n",
    "\n",
    "## Disadvantages of multithreading:\n",
    "\n",
    "1. Increased complexity: Multithreading can make a program more complex and difficult to debug, especially when dealing with shared resources and synchronization issues.\n",
    "\n",
    "2. Increased overhead: Multithreading can add overhead to a program, such as the cost of creating and managing threads. This can result in slower execution times and increased memory usage.\n",
    "\n",
    "3. Synchronization issues: Multithreading can introduce synchronization issues, such as race conditions and deadlocks, when multiple threads try to access shared resources simultaneously.\n",
    "\n",
    "4. Difficulty of implementation: Multithreading can be difficult to implement correctly, especially for inexperienced programmers. It requires careful consideration of thread safety and synchronization issues.\n",
    "\n",
    "In summary, multithreading can provide significant benefits for program performance and user experience, but it also introduces complexity and potential synchronization issues that need to be carefully managed.\n"
   ]
  },
  {
   "cell_type": "markdown",
   "id": "7c2b5c49-3a65-4d84-91af-05c2eae64f53",
   "metadata": {},
   "source": [
    "# Q6. Explain deadlocks and race conditions."
   ]
  },
  {
   "cell_type": "markdown",
   "id": "c03285ca-eb75-458d-bf87-672741563c9d",
   "metadata": {},
   "source": [
    "# Ans :"
   ]
  },
  {
   "cell_type": "markdown",
   "id": "7264b3f1-0eae-4047-b0bf-0f180d0b7f76",
   "metadata": {},
   "source": [
    "Deadlocks and race conditions are two common synchronization issues that can occur in multithreaded programs.\n",
    "\n",
    "## Deadlock:\n",
    "A deadlock occurs when two or more threads are blocked, waiting for each other to release resources that they need in order to proceed. Deadlocks occur when multiple threads try to acquire shared resources in different orders, resulting in a situation where none of the threads can proceed. Deadlocks can be difficult to detect and resolve, and can cause a program to hang indefinitely.\n",
    "\n",
    "For example, consider two threads A and B, where thread A acquires resource X and then waits to acquire resource Y, while thread B acquires resource Y and then waits to acquire resource X. In this situation, both threads are waiting for the other to release the resource they need, resulting in a deadlock.\n",
    "\n",
    "## Race condition:\n",
    "A race condition occurs when two or more threads access shared resources simultaneously, resulting in unpredictable behavior or incorrect results. Race conditions occur when threads do not properly synchronize their access to shared resources, resulting in the order of execution becoming non-deterministic. The outcome of a race condition depends on the timing and order of thread execution, which can vary from one execution of the program to the next.\n",
    "\n",
    "For example, consider two threads A and B that access a shared variable x. If thread A reads the value of x, and then thread B modifies the value of x before thread A can update it, the result will depend on the order of thread execution. If thread A updates the old value of x, the result will be incorrect.\n",
    "\n",
    "To avoid these synchronization issues, multithreaded programs must use proper synchronization mechanisms, such as locks and semaphores, to ensure that only one thread can access a shared resource at a time. Additionally, proper design and testing can help to detect and prevent these issues before they occur in a production environment."
   ]
  },
  {
   "cell_type": "code",
   "execution_count": null,
   "id": "8a5f4dc3-acc0-4ad4-b1e9-2a28671c4c04",
   "metadata": {},
   "outputs": [],
   "source": []
  }
 ],
 "metadata": {
  "kernelspec": {
   "display_name": "Python 3 (ipykernel)",
   "language": "python",
   "name": "python3"
  },
  "language_info": {
   "codemirror_mode": {
    "name": "ipython",
    "version": 3
   },
   "file_extension": ".py",
   "mimetype": "text/x-python",
   "name": "python",
   "nbconvert_exporter": "python",
   "pygments_lexer": "ipython3",
   "version": "3.10.8"
  }
 },
 "nbformat": 4,
 "nbformat_minor": 5
}
